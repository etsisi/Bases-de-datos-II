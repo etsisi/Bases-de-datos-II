{
 "cells": [
  {
   "cell_type": "code",
   "execution_count": 23,
   "id": "b79d11f5",
   "metadata": {},
   "outputs": [
    {
     "name": "stdout",
     "output_type": "stream",
     "text": [
      "+------+--------------------+----+--------------------+\n",
      "|    id|             carrera|edad|              nombre|\n",
      "+------+--------------------+----+--------------------+\n",
      "|204621|Diseño de Moda In...|  19|    Dimas Bonet Gual|\n",
      "|104131|     Biología Marina|  22|     Alfredo Stucchi|\n",
      "|151775|     Teoría Práctica|  30|Marissa Serlupi-C...|\n",
      "| 71772|Diseño de Moda In...|  24| Baudelio Elías Roma|\n",
      "| 11317|      Artes del Café|  24|     Priscilla Dossi|\n",
      "|110672|  Filosofía Cuántica|  26|         Jerome Todd|\n",
      "|210757|   Psicología Canina|  22|         Brian Davis|\n",
      "|197627|     Teoría Práctica|  20|        Sherry Olsen|\n",
      "|150645| Música para Plantas|  20|        Marie Brooks|\n",
      "|175449| Música para Plantas|  18|Lilia Botella Jordán|\n",
      "+------+--------------------+----+--------------------+\n",
      "only showing top 10 rows\n",
      "\n"
     ]
    }
   ],
   "source": [
    "from pyspark.sql import SparkSession\n",
    "\n",
    "spark = SparkSession.builder \\\n",
    "    .appName(\"CassandraSparkRemote\") \\\n",
    "    .config(\"spark.cassandra.connection.host\", \"172.17.0.1\") \\\n",
    "    .getOrCreate()\n",
    "\n",
    "df = spark.read \\\n",
    "    .format(\"org.apache.spark.sql.cassandra\") \\\n",
    "    .options(table=\"estudiantes\", keyspace=\"bbdd2\") \\\n",
    "    .load()\n",
    "\n",
    "df.show(10)\n"
   ]
  },
  {
   "cell_type": "code",
   "execution_count": 24,
   "id": "0d9bcb78-0a0e-44af-8d0b-0c7a49759c6d",
   "metadata": {},
   "outputs": [
    {
     "name": "stdout",
     "output_type": "stream",
     "text": [
      "+------+--------------------+----+--------------------+\n",
      "|    id|             carrera|edad|              nombre|\n",
      "+------+--------------------+----+--------------------+\n",
      "|204621|Diseño de Moda In...|  19|    Dimas Bonet Gual|\n",
      "|104131|     Biología Marina|  22|     Alfredo Stucchi|\n",
      "|151775|     Teoría Práctica|  30|Marissa Serlupi-C...|\n",
      "| 71772|Diseño de Moda In...|  24| Baudelio Elías Roma|\n",
      "| 11317|      Artes del Café|  24|     Priscilla Dossi|\n",
      "|110672|  Filosofía Cuántica|  26|         Jerome Todd|\n",
      "|210757|   Psicología Canina|  22|         Brian Davis|\n",
      "|197627|     Teoría Práctica|  20|        Sherry Olsen|\n",
      "|150645| Música para Plantas|  20|        Marie Brooks|\n",
      "|175449| Música para Plantas|  18|Lilia Botella Jordán|\n",
      "+------+--------------------+----+--------------------+\n",
      "only showing top 10 rows\n",
      "\n"
     ]
    }
   ],
   "source": [
    "df.show(10)\n"
   ]
  },
  {
   "cell_type": "code",
   "execution_count": 10,
   "id": "d224346a",
   "metadata": {},
   "outputs": [
    {
     "name": "stdout",
     "output_type": "stream",
     "text": [
      "+--------------------+----+--------------------+\n",
      "|              nombre|edad|             carrera|\n",
      "+--------------------+----+--------------------+\n",
      "|Marissa Serlupi-C...|  30|     Teoría Práctica|\n",
      "|         Jerome Todd|  26|  Filosofía Cuántica|\n",
      "|          Danny Long|  27|     Teoría Práctica|\n",
      "|  Fiorenzo Mazzocchi|  26|   Psicología Canina|\n",
      "|      Tonia Ferragni|  27|    Cocina Molecular|\n",
      "|  Sabas Boix Noriega|  28|    Cocina Molecular|\n",
      "|    Bonnie Rasmussen|  30|    Turismo Espacial|\n",
      "|       Eli del Arana|  26| Música para Plantas|\n",
      "|Custodia Pareja A...|  30|     Teoría Práctica|\n",
      "|      Amalia Zamengo|  26|    Cocina Molecular|\n",
      "|      Ashley Hawkins|  29|      Artes del Café|\n",
      "|       Thomas Malone|  27|     Teoría Práctica|\n",
      "|        Lauren Smith|  29|Diseño de Moda In...|\n",
      "|Lucrezia Chiaramonte|  29|  Filosofía Cuántica|\n",
      "|           Eric Bell|  27| Música para Plantas|\n",
      "|Jeremías del Camacho|  28|Historia del Univ...|\n",
      "|      Jordan Wiggins|  29|    Turismo Espacial|\n",
      "|Nilda Miralles Ca...|  27| Música para Plantas|\n",
      "|      Taylor Johnson|  30|Historia del Univ...|\n",
      "|Lisandro Rosendo ...|  28|     Teoría Práctica|\n",
      "+--------------------+----+--------------------+\n",
      "only showing top 20 rows\n",
      "\n"
     ]
    }
   ],
   "source": [
    "df.filter(df.edad > 25).select(\"nombre\", \"edad\", \"carrera\").show()"
   ]
  },
  {
   "cell_type": "code",
   "execution_count": 25,
   "id": "1b1ab898",
   "metadata": {},
   "outputs": [
    {
     "name": "stdout",
     "output_type": "stream",
     "text": [
      "+--------------------+-----+\n",
      "|             carrera|count|\n",
      "+--------------------+-----+\n",
      "| Música para Plantas|25170|\n",
      "|     Teoría Práctica|25081|\n",
      "|    Turismo Espacial|25073|\n",
      "|  Filosofía Cuántica|25050|\n",
      "|Diseño de Moda In...|24995|\n",
      "|    Cocina Molecular|24987|\n",
      "|Historia del Univ...|24976|\n",
      "|   Psicología Canina|24975|\n",
      "|     Biología Marina|24849|\n",
      "|      Artes del Café|24844|\n",
      "+--------------------+-----+\n",
      "\n"
     ]
    }
   ],
   "source": [
    "df.groupBy(\"carrera\").count().orderBy(\"count\", ascending=False).show()"
   ]
  },
  {
   "cell_type": "code",
   "execution_count": 17,
   "id": "2b70d2eb",
   "metadata": {},
   "outputs": [],
   "source": [
    "from pyspark.sql.functions import col\n",
    "\n",
    "df_adultos = df.filter(col(\"edad\") >= 25)\n",
    "\n",
    "df_adultos.write \\\n",
    "  .format(\"org.apache.spark.sql.cassandra\") \\\n",
    "  .mode(\"append\") \\\n",
    "  .options(table=\"estudiantes_adultos\", keyspace=\"bbdd2\") \\\n",
    "  .save()"
   ]
  },
  {
   "cell_type": "code",
   "execution_count": 18,
   "id": "063224a1",
   "metadata": {},
   "outputs": [
    {
     "name": "stdout",
     "output_type": "stream",
     "text": [
      "+------+--------------------+----+--------------------+\n",
      "|    id|             carrera|edad|              nombre|\n",
      "+------+--------------------+----+--------------------+\n",
      "| 97117|     Biología Marina|  30|Mrs. Amber Huerta...|\n",
      "|191644|      Artes del Café|  30|Mireia Botella Rubio|\n",
      "| 51805|Diseño de Moda In...|  30|  Micheletto Tebaldi|\n",
      "|248687|   Psicología Canina|  30|Mirta Trujillo Ar...|\n",
      "|187981|Diseño de Moda In...|  30|     Marta Gabba-Eco|\n",
      "|108303|Historia del Univ...|  30|      Marvin Huffman|\n",
      "|188963|  Filosofía Cuántica|  30| Marisol Tejera Cano|\n",
      "| 43622|   Psicología Canina|  30|María Casanovas A...|\n",
      "| 78553|Diseño de Moda In...|  30|     Michael Mcguire|\n",
      "|189351|     Biología Marina|  30|Macarena Dalmau C...|\n",
      "| 78192|    Cocina Molecular|  30|María Manuela Col...|\n",
      "|196655|Historia del Univ...|  30|       Michelle Boyd|\n",
      "|236637|      Artes del Café|  30|   Mr. Robert Moreno|\n",
      "|182626|  Filosofía Cuántica|  30|      Michelle James|\n",
      "|140960|   Psicología Canina|  30|    Melissa Respighi|\n",
      "| 37558|   Psicología Canina|  30|Marcantonio Ficin...|\n",
      "|136713|      Artes del Café|  30|Martirio Vilar Fu...|\n",
      "| 19190|     Teoría Práctica|  30|     Mattia Sbarbaro|\n",
      "|246886|  Filosofía Cuántica|  30|      Matthew Harvey|\n",
      "|143943|    Turismo Espacial|  30|     Maria Dickerson|\n",
      "+------+--------------------+----+--------------------+\n",
      "only showing top 20 rows\n",
      "\n"
     ]
    }
   ],
   "source": [
    "df.filter(df.nombre.startswith(\"M\")).orderBy(\"edad\", ascending=False).show()"
   ]
  },
  {
   "cell_type": "code",
   "execution_count": 26,
   "id": "eadb5e20",
   "metadata": {},
   "outputs": [
    {
     "name": "stdout",
     "output_type": "stream",
     "text": [
      "+--------------------+------------------+\n",
      "|             carrera|     edad_promedio|\n",
      "+--------------------+------------------+\n",
      "|Diseño de Moda In...| 24.02864572914583|\n",
      "|   Psicología Canina|24.006606606606606|\n",
      "|     Teoría Práctica|  24.0056616562338|\n",
      "| Música para Plantas|24.001628923321416|\n",
      "|    Turismo Espacial| 23.99617118015395|\n",
      "|Historia del Univ...|23.994915118513774|\n",
      "|  Filosofía Cuántica| 23.99441117764471|\n",
      "|     Biología Marina|23.988933156263833|\n",
      "|      Artes del Café|  23.9805586862019|\n",
      "|    Cocina Molecular| 23.96238043782767|\n",
      "+--------------------+------------------+\n",
      "\n"
     ]
    }
   ],
   "source": [
    "df.createOrReplaceTempView(\"estudiantes\")\n",
    "\n",
    "spark.sql(\"\"\"\n",
    "    SELECT carrera, AVG(edad) AS edad_promedio\n",
    "    FROM estudiantes\n",
    "    GROUP BY carrera\n",
    "    ORDER BY edad_promedio DESC\n",
    "\"\"\").show()"
   ]
  },
  {
   "cell_type": "code",
   "execution_count": 20,
   "id": "8ca2eb13",
   "metadata": {},
   "outputs": [],
   "source": [
    "df.write.option(\"header\", True).mode(\"overwrite\").csv(\"/home/jovyan/work/export_estudiantes\")"
   ]
  },
  {
   "cell_type": "code",
   "execution_count": 21,
   "id": "79ae2e78",
   "metadata": {},
   "outputs": [
    {
     "name": "stdout",
     "output_type": "stream",
     "text": [
      "+--------------------+----------+------------------+\n",
      "|             carrera|grupo_edad|         avg(edad)|\n",
      "+--------------------+----------+------------------+\n",
      "|     Biología Marina|    Adulto|27.481956066945607|\n",
      "|     Teoría Práctica|    Adulto| 27.48514339850142|\n",
      "|  Filosofía Cuántica|     Joven|20.978217381640363|\n",
      "|Diseño de Moda In...|    Adulto| 27.47585910652921|\n",
      "|     Biología Marina|     Joven|20.993346789265157|\n",
      "|      Artes del Café|     Joven| 20.96682641905047|\n",
      "|      Artes del Café|    Adulto| 27.48320278503046|\n",
      "|Historia del Univ...|    Adulto|27.510584545692133|\n",
      "|    Cocina Molecular|    Adulto|27.518563815846946|\n",
      "|   Psicología Canina|    Adulto| 27.52416970961572|\n",
      "|   Psicología Canina|     Joven|  21.0036369034365|\n",
      "|    Cocina Molecular|     Joven|20.955908419497785|\n",
      "|  Filosofía Cuántica|    Adulto|27.518133818055915|\n",
      "| Música para Plantas|    Adulto|27.465880733155494|\n",
      "|     Teoría Práctica|     Joven|21.006384558277652|\n",
      "|Historia del Univ...|     Joven| 21.00488997555012|\n",
      "|    Turismo Espacial|     Joven| 21.01628302864333|\n",
      "| Música para Plantas|     Joven|21.030334342017863|\n",
      "|Diseño de Moda In...|     Joven|21.024110819917635|\n",
      "|    Turismo Espacial|    Adulto|  27.4783774433489|\n",
      "+--------------------+----------+------------------+\n",
      "\n"
     ]
    }
   ],
   "source": [
    "df_cat.groupBy(\"carrera\", \"grupo_edad\").avg(\"edad\").show()"
   ]
  },
  {
   "cell_type": "code",
   "execution_count": 22,
   "id": "a957e1af",
   "metadata": {},
   "outputs": [
    {
     "data": {
      "image/png": "[encoded data removed]",
      "text/plain": [
       "<Figure size 1000x500 with 1 Axes>"
      ]
     },
     "metadata": {},
     "output_type": "display_data"
    }
   ],
   "source": [
    "import matplotlib.pyplot as plt\n",
    "\n",
    "df_pandas = df.groupBy(\"carrera\").count().toPandas()\n",
    "\n",
    "df_pandas.plot(kind=\"bar\", x=\"carrera\", y=\"count\", figsize=(10, 5))\n",
    "plt.title(\"Estudiantes por carrera\")\n",
    "plt.show()"
   ]
  },
  {
   "cell_type": "code",
   "execution_count": null,
   "id": "5a74e0db",
   "metadata": {},
   "outputs": [],
   "source": []
  }
 ],
 "metadata": {
  "kernelspec": {
   "display_name": "Python 3 (ipykernel)",
   "language": "python",
   "name": "python3"
  },
  "language_info": {
   "codemirror_mode": {
    "name": "ipython",
    "version": 3
   },
   "file_extension": ".py",
   "mimetype": "text/x-python",
   "name": "python",
   "nbconvert_exporter": "python",
   "pygments_lexer": "ipython3",
   "version": "3.11.6"
  }
 },
 "nbformat": 4,
 "nbformat_minor": 5
}
