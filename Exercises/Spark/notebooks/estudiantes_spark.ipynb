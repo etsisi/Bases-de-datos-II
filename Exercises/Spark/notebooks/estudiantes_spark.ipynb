{
 "cells": [
  {
   "cell_type": "code",
   "execution_count": 4,
   "id": "spark-cassandra-setup",
   "metadata": {},
   "outputs": [
    {
     "name": "stdout",
     "output_type": "stream",
     "text": [
      "+------+--------------------+----+--------------------+\n",
      "|    id|             carrera|edad|              nombre|\n",
      "+------+--------------------+----+--------------------+\n",
      "| 58052|  Filosofía Cuántica|  22|           Sarah Lee|\n",
      "| 89732|    Cocina Molecular|  26|    Griselda Llorens|\n",
      "|183753|     Biología Marina|  29|Pía Dulce Alberdi...|\n",
      "| 52602|     Biología Marina|  30|     Elvira Carfagna|\n",
      "|144343|Historia del Univ...|  29|Maristela Ramis Marí|\n",
      "|183617|    Turismo Espacial|  28|       Edu de Blanes|\n",
      "|119186|Historia del Univ...|  21|   Riccardo Battelli|\n",
      "|204877|    Cocina Molecular|  18| Rembrandt Iacobucci|\n",
      "| 78813|      Artes del Café|  21|        Charles Bass|\n",
      "| 80793|     Teoría Práctica|  25|      Ariana Meadows|\n",
      "+------+--------------------+----+--------------------+\n",
      "only showing top 10 rows\n",
      "\n",
      "root\n",
      " |-- id: integer (nullable = false)\n",
      " |-- carrera: string (nullable = true)\n",
      " |-- edad: integer (nullable = true)\n",
      " |-- nombre: string (nullable = true)\n",
      "\n",
      "+--------------------+-----+\n",
      "|             carrera|count|\n",
      "+--------------------+-----+\n",
      "|     Teoría Práctica|25081|\n",
      "|   Psicología Canina|24975|\n",
      "|      Artes del Café|24844|\n",
      "|  Filosofía Cuántica|25050|\n",
      "| Música para Plantas|25170|\n",
      "|     Biología Marina|24849|\n",
      "|    Cocina Molecular|24987|\n",
      "|Historia del Univ...|24976|\n",
      "|    Turismo Espacial|25073|\n",
      "|Diseño de Moda In...|24995|\n",
      "+--------------------+-----+\n",
      "\n"
     ]
    }
   ],
   "source": [
    "from pyspark.sql import SparkSession\n",
    "\n",
    "spark = SparkSession.builder \\\n",
    "    .appName(\"CassandraSparkRemote\") \\\n",
    "    .config(\"spark.cassandra.connection.host\", \"172.17.0.1\") \\\n",
    "    .getOrCreate()\n",
    "\n",
    "df = spark.read \\\n",
    "    .format(\"org.apache.spark.sql.cassandra\") \\\n",
    "    .options(table=\"estudiantes\", keyspace=\"bbdd2\") \\\n",
    "    .load()\n",
    "\n",
    "df.show(10)\n",
    "df.printSchema()\n",
    "\n",
    "df.groupBy(\"carrera\").count().show()"
   ]
  },
  {
   "cell_type": "code",
   "execution_count": null,
   "id": "55eae736-3730-4e04-bb55-ab9bd3266d57",
   "metadata": {},
   "outputs": [],
   "source": []
  },
  {
   "cell_type": "code",
   "execution_count": null,
   "id": "3045ece4-428c-494b-af00-71424d693915",
   "metadata": {},
   "outputs": [],
   "source": []
  }
 ],
 "metadata": {
  "kernelspec": {
   "display_name": "Python 3 (ipykernel)",
   "language": "python",
   "name": "python3"
  },
  "language_info": {
   "codemirror_mode": {
    "name": "ipython",
    "version": 3
   },
   "file_extension": ".py",
   "mimetype": "text/x-python",
   "name": "python",
   "nbconvert_exporter": "python",
   "pygments_lexer": "ipython3",
   "version": "3.11.6"
  }
 },
 "nbformat": 4,
 "nbformat_minor": 5
}
